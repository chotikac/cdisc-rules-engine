{
 "cells": [
  {
   "cell_type": "code",
   "execution_count": null,
   "id": "c48110c9",
   "metadata": {},
   "outputs": [],
   "source": [
    "#Install requirements\n",
    "pip install -r requirements.txt"
   ]
  },
  {
   "cell_type": "markdown",
   "id": "74e26b2b",
   "metadata": {},
   "source": [
    "**For dataset JSON**\n",
    "# download rules-list.json from https://sourceforge.net/p/smart-submission-dataset-viewe/code/ci/master/tree/cdisc-rules-engine/ \n",
    "#Run \n",
    "python3 rules-list.json"
   ]
  },
  {
   "cell_type": "code",
   "execution_count": null,
   "id": "558741ed",
   "metadata": {},
   "outputs": [],
   "source": [
    "#Validate dataset-JSON\n",
    "python core.py validate -s sendig -v 3-1-1 -d /Users/rvt-lt-2025002/Documents/SEND_Validate/dataset-json"
   ]
  },
  {
   "cell_type": "code",
   "execution_count": null,
   "id": "9abd8039",
   "metadata": {},
   "outputs": [],
   "source": [
    "#Validate dataset-XPT\n",
    "python core.py validate -s sendig -v 3-1-1 -d /Users/rvt-lt-2025002/Documents/SEND_Validate/dataset-json"
   ]
  }
 ],
 "metadata": {
  "kernelspec": {
   "display_name": ".venv (3.12.11)",
   "language": "python",
   "name": "python3"
  },
  "language_info": {
   "codemirror_mode": {
    "name": "ipython",
    "version": 3
   },
   "file_extension": ".py",
   "mimetype": "text/x-python",
   "name": "python",
   "nbconvert_exporter": "python",
   "pygments_lexer": "ipython3",
   "version": "3.12.11"
  }
 },
 "nbformat": 4,
 "nbformat_minor": 5
}
